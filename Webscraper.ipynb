{
  "cells": [
    {
      "cell_type": "markdown",
      "metadata": {},
      "source": [
        "### IMPORTING ALL THE MODULES WE WILL BE USING"
      ]
    },
    {
      "cell_type": "code",
<<<<<<< HEAD
      "execution_count": 6,
      "metadata": {},
      "outputs": [],
      "source": [
        "import requests\n",
        "from bs4 import BeautifulSoup as Soup\n",
        "import pyppdf.patch_pyppeteer\n",
        "import time "
      ]
    },
    {
      "cell_type": "markdown",
      "metadata": {},
      "source": [
        "----\n",
        "### Setting up a client to access the data from the site\n",
        "(This is to prevent the site from flagging the request as a bot and terminating access)"
      ]
    },
    {
      "cell_type": "code",
      "execution_count": 7,
      "metadata": {},
      "outputs": [],
      "source": [
        "headers = {'User-Agent': 'Mozilla/5.0 (Windows NT 10.0; Win64; x64) AppleWebKit/537.36 (KHTML, like Gecko) Chrome/109.0.0.0 Safari/537.36',}\n",
        "delay_seconds = 5\n",
        "num_requests = 1"
      ]
    },
    {
      "cell_type": "markdown",
      "metadata": {},
      "source": [
        "----\n",
        "### Webscraping Data From Bigbasket's Fruits and Vegetables Section (Filtered Data)"
      ]
    },
    {
      "cell_type": "code",
      "execution_count": 13,
=======
<<<<<<< HEAD
      "execution_count": 2,
=======
      "execution_count": null,
>>>>>>> 4d69db9e7e9e5fdcba015fc022cf90621c5162df
>>>>>>> 5c8ca7715127cbb6d00632c68a8f2137be11c379
      "metadata": {},
      "outputs": [
        {
          "name": "stdout",
          "output_type": "stream",
          "text": [
            "Filtered data as a dictionary:\n",
            "Orange - Nagpur, Regular (Loose): ₹59\n",
            "Onion (Loose): ₹118\n",
            "Baby Apple Shimla: ₹135\n",
            "Potato: ₹34\n",
            "Carrot - Orange (Loose): ₹11\n",
            "Tomato - Local (Loose): ₹36\n",
            "Banana - Robusta: ₹29\n",
            "Cucumber: ₹13\n",
            "Capsicum - Green (Loose): ₹24\n",
            "Coriander Leaves: ₹204.25\n",
            "Ladies' Fingers (Loose): ₹17\n",
            "Beans - Haricot (Loose): ₹22.5\n",
            "Coconut - Medium: ₹27\n",
            "Banana - Yelakki: ₹104\n",
            "Tomato - Hybrid (Loose): ₹10\n",
            "Apple - Shimla, Regular: ₹237.99\n",
            "Cauliflower: ₹21\n",
            "Beetroot (Loose): ₹48\n",
            "Pomegranate - Regular (Loose): ₹272\n",
            "Palak - Cleaned, without roots: ₹94.93\n",
            "Broccoli: ₹35.48\n",
            "Mushrooms - Button: ₹43\n",
            "Chilli - Green, Organically Grown (Loose): ₹15.57\n",
            "Ginger (Loose): ₹17\n",
            "Cabbage (Loose): ₹19\n",
            "Mini Orange Imported (Loose): ₹375\n",
            "Tender Coconut: ₹48\n",
            "Watermelon -  Medium: ₹63\n",
            "Cucumber - English (Loose): ₹33\n",
            "Apple - Royal Gala Economy: ₹145\n",
            "Papaya: ₹68\n",
            "Pomegranate (Loose): ₹255\n",
            "Banana - Nendran: ₹27\n",
            "Bottle Gourd (Loose): ₹24\n",
            "Coccinia (Loose): ₹13\n",
            "Ginger - Organically Grown: ₹97.09\n",
            "Kiwi - Green: ₹78\n",
            "Lemon (Loose): ₹20.5\n",
            "Curry Leaves: ₹121.18\n",
            "Ridge Gourd: ₹22\n",
            "Sweet Corn (Loose): ₹52.74\n",
            "Drumstick/Moringa: ₹201\n",
            "Frozen Green Peas: ₹198\n",
            "Pear - Green, Imported: ₹278.08\n",
            "Mosambi - Economy (Loose): ₹50\n",
            "Cut Roses Flower: ₹159.82\n",
            "Marigold Flower - Yellow: ₹48.9\n"
          ]
        }
      ],
      "source": [
        "import requests\n",
<<<<<<< HEAD
        "from bs4 import BeautifulSoup as Soup\n",
        "import pyppdf.patch_pyppeteer\n",
        "import time\n",
        "import csv  # Import the csv module\n",
=======
<<<<<<< HEAD
        "from bs4 import BeautifulSoup as Soup\n",
        "import pyppdf.patch_pyppeteer\n",
        "import time "
      ]
    },
    {
      "cell_type": "markdown",
      "metadata": {},
      "source": [
        "----\n",
        "### Setting up a client to access the data from the site\n",
        "(This is to prevent the site from flagging the request as a bot and terminating access)"
      ]
    },
    {
      "cell_type": "code",
      "execution_count": 3,
      "metadata": {},
      "outputs": [],
      "source": [
        "headers = {'User-Agent': 'Mozilla/5.0 (Windows NT 10.0; Win64; x64) AppleWebKit/537.36 (KHTML, like Gecko) Chrome/109.0.0.0 Safari/537.36',}\n",
        "delay_seconds = 5\n",
        "num_requests = 1"
      ]
    },
    {
      "cell_type": "markdown",
      "metadata": {},
      "source": [
        "----\n",
        "### Webscraping Data From Bigbasket's Fruits and Vegetables Section (Filtered Data)"
      ]
    },
    {
      "cell_type": "code",
      "execution_count": 4,
      "metadata": {},
      "outputs": [
        {
          "name": "stdout",
          "output_type": "stream",
          "text": [
            "Filtered data as a dictionary:\n",
            "Orange - Nagpur, Regular (Loose): ₹59\n",
            "Onion (Loose): ₹118\n",
            "Baby Apple Shimla: ₹135\n",
            "Potato: ₹34\n",
            "Carrot - Orange (Loose): ₹11\n",
            "Tomato - Local (Loose): ₹36\n",
            "Banana - Robusta: ₹29\n",
            "Cucumber: ₹13\n",
            "Capsicum - Green (Loose): ₹24\n",
            "Coriander Leaves: ₹204.25\n",
            "Ladies' Fingers (Loose): ₹17\n",
            "Beans - Haricot (Loose): ₹22.5\n",
            "Coconut - Medium: ₹27\n",
            "Banana - Yelakki: ₹104\n",
            "Tomato - Hybrid (Loose): ₹10\n",
            "Apple - Shimla, Regular: ₹237.99\n",
            "Cauliflower: ₹21\n",
            "Beetroot (Loose): ₹48\n",
            "Pomegranate - Regular (Loose): ₹272\n",
            "Palak - Cleaned, without roots: ₹94.93\n",
            "Broccoli: ₹35.48\n",
            "Mushrooms - Button: ₹43\n",
            "Chilli - Green, Organically Grown (Loose): ₹15.57\n",
            "Ginger (Loose): ₹17\n",
            "Cabbage (Loose): ₹19\n",
            "Mini Orange Imported (Loose): ₹375\n",
            "Tender Coconut: ₹48\n",
            "Watermelon -  Medium: ₹63\n",
            "Cucumber - English (Loose): ₹33\n",
            "Apple - Royal Gala Economy: ₹145\n",
            "Papaya: ₹68\n",
            "Pomegranate (Loose): ₹255\n",
            "Banana - Nendran: ₹27\n",
            "Bottle Gourd (Loose): ₹24\n",
            "Coccinia (Loose): ₹13\n",
            "Ginger - Organically Grown: ₹97.09\n",
            "Kiwi - Green: ₹78\n",
            "Lemon (Loose): ₹20.5\n",
            "Curry Leaves: ₹121.18\n",
            "Ridge Gourd: ₹22\n",
            "Sweet Corn (Loose): ₹52.74\n",
            "Drumstick/Moringa: ₹201\n",
            "Frozen Green Peas: ₹198\n",
            "Pear - Green, Imported: ₹278.08\n",
            "Mosambi - Economy (Loose): ₹50\n",
            "Cut Roses Flower: ₹159.82\n",
            "Marigold Flower - Yellow: ₹48.9\n"
          ]
        }
      ],
      "source": [
        "BB_URL = 'https://www.bigbasket.com/cl/fruits-vegetables/'\n",
=======
        "import time \n",
        "\n",
        "url = 'https://www.bigbasket.com/cl/fruits-vegetables/?nc=ct-fa' \n",
>>>>>>> 5c8ca7715127cbb6d00632c68a8f2137be11c379
        "\n",
        "headers = {'User-Agent': 'Mozilla/5.0 (Windows NT 10.0; Win64; x64) AppleWebKit/537.36 (KHTML, like Gecko) Chrome/109.0.0.0 Safari/537.36',}\n",
        "delay_seconds = 5\n",
        "num_requests = 1\n",
<<<<<<< HEAD
        "BB_URL = 'https://www.bigbasket.com/cl/fruits-vegetables/'\n",
=======
>>>>>>> 4d69db9e7e9e5fdcba015fc022cf90621c5162df
>>>>>>> 5c8ca7715127cbb6d00632c68a8f2137be11c379
        "\n",
        "for i in range(num_requests):\n",
        "    BB_Response = requests.get(BB_URL, headers=headers)\n",
        "    \n",
        "    if BB_Response.status_code != 200:\n",
        "        print(f'Request {i + 1} failed\\n Error Code: {BB_Response.status_code}')\n",
        "    else:\n",
        "        BBobj = Soup(BB_Response.content, 'html.parser')\n",
        "\n",
        "        # Filter elements with the specified tags and create lists\n",
        "        BB_Name_Elements = BBobj.find_all('h3', class_='block m-0 line-clamp-2 font-regular text-base leading-sm text-darkOnyx-800 pt-0.5 h-full')\n",
        "        BB_Price_Elements = BBobj.find_all('span', class_='Label-sc-15v1nk5-0 Pricing___StyledLabel-sc-pldi2d-1 gJxZPQ AypOi')\n",
        "\n",
        "        BB_Name_List = [h3.text for h3 in BB_Name_Elements]\n",
        "        BB_Price_List = [span.text for span in BB_Price_Elements]\n",
        "\n",
        "        # Create a dictionary with h3_list as keys and span_list as values\n",
        "        BB_Dict = {h3_text: span_text for h3_text, span_text in zip(BB_Name_List, BB_Price_List)}\n",
        "        \n",
        "        print(\"Filtered data as a dictionary:\")\n",
        "        for key, value in BB_Dict.items():\n",
        "            print(f\"{key}: {value}\")\n",
        "\n",
        "        # Save the data to a CSV file\n",
        "        with open('BB.csv', 'w', newline='') as csvfile:\n",
        "            fieldnames = ['Product Name', 'Price']\n",
        "            writer = csv.DictWriter(csvfile, fieldnames=fieldnames)\n",
        "            \n",
        "            writer.writeheader()\n",
        "            for key, value in BB_Dict.items():\n",
        "                writer.writerow({'Product Name': key, 'Price': value})\n",
        "\n",
        "    time.sleep(delay_seconds)\n"
      ]
    },
    {
      "cell_type": "markdown",
      "metadata": {},
      "source": [
        "----\n",
        "### Webscraping Data From Dunzo's Fruits and Vegetables Section (Filtered Data)"
      ]
    },
    {
      "cell_type": "code",
      "execution_count": 14,
      "metadata": {},
      "outputs": [
        {
          "name": "stdout",
          "output_type": "stream",
          "text": [
            "Filtered data as a dictionary:\n",
            "French Beans: ₹ 90\n",
            "Brinjal - Green (Long): ₹ 70\n",
            "Brinjal - Vari: ₹ 120\n",
            "Striped Brinjal: ₹ 40\n",
            "Field Beans / Averakai: ₹ 130\n",
            "Beans - Haricot: ₹ 180\n",
            "Ladies Finger: ₹ 130\n",
            "Beans - Cluster: ₹ 140\n",
            "Cauliflower: ₹ 60\n",
            "Cabbage: ₹ 60\n"
          ]
        }
      ],
      "source": [
        "DZ_URL = 'https://www.dunzo.com/bangalore/smart-final-banashankari-inner?subTag=fnv'\n",
        "\n",
        "for i in range(num_requests):\n",
        "    DZ_Response = requests.get(DZ_URL, headers=headers)\n",
        "\n",
        "    if DZ_Response.status_code != 200:\n",
        "        print(f'Request {i + 1} failed\\n Error Code: {DZ_Response.status_code}')\n",
        "    else:\n",
        "        DZobj = Soup(DZ_Response.content, 'html.parser')\n",
        "\n",
        "        # Filter elements with the specified tags and create lists\n",
        "        DZ_Name_Elements = DZobj.find_all('p', class_='sc-AxhCb fUOgJU sc-1twyv6b-0 kArLCp')\n",
        "        DZ_Price_Elements = DZobj.find_all('p', class_='sc-AxhCb bHCIYd sc-1twyv6b-2 ootqU')\n",
        "\n",
        "        DZ_Name_List = [p.text for p in DZ_Name_Elements]\n",
        "        DZ_Price_List = [p.text for p in DZ_Price_Elements]\n",
        "\n",
        "        # Create a dictionary with DZ_Name_List as keys and DZ_Price_List as values\n",
        "        DZ_Dict = {name: price for name, price in zip(DZ_Name_List, DZ_Price_List)}\n",
        "\n",
        "        print(\"Filtered data as a dictionary:\")\n",
        "        for key, value in DZ_Dict.items():\n",
        "            print(f\"{key}: {value}\")\n",
        "\n",
        "        # Save the data to a CSV file\n",
        "        with open('DZ.csv', 'w', newline='') as csvfile:\n",
        "            fieldnames = ['Product Name', 'Price']\n",
        "            writer = csv.DictWriter(csvfile, fieldnames=fieldnames)\n",
        "\n",
        "            writer.writeheader()\n",
        "            for key, value in DZ_Dict.items():\n",
        "                writer.writerow({'Product Name': key, 'Price': value})\n",
        "\n",
        "    time.sleep(delay_seconds)\n"
      ]
    },
    {
      "cell_type": "code",
<<<<<<< HEAD
      "execution_count": 5,
=======
      "execution_count": null,
>>>>>>> 4d69db9e7e9e5fdcba015fc022cf90621c5162df
      "metadata": {},
      "outputs": [],
      "source": []
    }
  ],
  "metadata": {
    "colab": {
      "provenance": []
    },
    "kernelspec": {
      "display_name": "Python 3",
      "name": "python3"
    },
    "language_info": {
      "codemirror_mode": {
        "name": "ipython",
        "version": 3
      },
      "file_extension": ".py",
      "mimetype": "text/x-python",
      "name": "python",
      "nbconvert_exporter": "python",
      "pygments_lexer": "ipython3",
      "version": "3.9.13"
    }
  },
  "nbformat": 4,
  "nbformat_minor": 0
}
