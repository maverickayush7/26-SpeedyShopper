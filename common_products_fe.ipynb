{
 "cells": [
  {
   "cell_type": "code",
   "execution_count": 2,
   "metadata": {},
   "outputs": [],
   "source": [
    "import pandas as pd\n",
    "\n",
    "# Load the first CSV file\n",
    "df1 = pd.read_csv('C:/Project/Kodikon/26-SpeedyShopper/BB_fe.csv')  \n",
    "\n",
    "# Load the second CSV file\n",
    "df2 = pd.read_csv('C:/Project/Kodikon/26-SpeedyShopper/DZ_fe.csv') \n",
    "\n",
    "# Get the common product names\n",
    "common_product_names = set(df1['Product Name']).intersection(set(df2['Product Name']))\n",
    "\n",
    "# Create a new DataFrame with only the common product names and prices\n",
    "common_df1 = df1[df1['Product Name'].isin(common_product_names)][['Product Name', 'Price']]\n",
    "common_df2 = df2[df2['Product Name'].isin(common_product_names)][['Product Name', 'Price']]\n",
    "\n",
    "# Merge the two dataframes based on the 'Product Name' column to combine prices\n",
    "merged_common_df = pd.merge(common_df1, common_df2, on='Product Name')\n",
    "\n",
    "# Save the common data to a new CSV file\n",
    "merged_common_df.to_csv('common_products_fe.csv', index=False)  # Replace with the desired output filename\n"
   ]
  },
  {
   "cell_type": "code",
   "execution_count": null,
   "metadata": {},
   "outputs": [],
   "source": []
  }
 ],
 "metadata": {
  "kernelspec": {
   "display_name": "base",
   "language": "python",
   "name": "python3"
  },
  "language_info": {
   "codemirror_mode": {
    "name": "ipython",
    "version": 3
   },
   "file_extension": ".py",
   "mimetype": "text/x-python",
   "name": "python",
   "nbconvert_exporter": "python",
   "pygments_lexer": "ipython3",
   "version": "3.9.13"
  }
 },
 "nbformat": 4,
 "nbformat_minor": 2
}
